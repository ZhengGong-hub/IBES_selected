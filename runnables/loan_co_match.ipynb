{
 "cells": [
  {
   "cell_type": "code",
   "execution_count": 1,
   "metadata": {},
   "outputs": [],
   "source": [
    "import openai\n",
    "import time\n",
    "import pandas as pd\n",
    "import tqdm\n",
    "import os\n",
    "\n",
    "# Function to get an integer response from OpenAI API\n",
    "def get_integer_from_openai(prompt):\n",
    "    openai.api_key = os.getenv(\"OPENAI_KEY\")\n",
    "    \n",
    "    max_retries = 10\n",
    "    retries = 0\n",
    "    while retries < max_retries:\n",
    "        try:\n",
    "            # Call the OpenAI API\n",
    "            response = openai.chat.completions.create(\n",
    "                model=\"gpt-4\",\n",
    "                messages=[\n",
    "                    {\"role\": \"system\", \"content\": \"You are a helpful assistant.\"},\n",
    "                    {\"role\": \"user\", \"content\": prompt}\n",
    "                ]\n",
    "            )\n",
    "            # Extract the text response from the API\n",
    "            response_text = int(response.choices[0].message.content)\n",
    "            break\n",
    "        except Exception as e:\n",
    "            retries += 1\n",
    "            print('maxing out retries for the following error: ' + str(e))\n",
    "            time.sleep(1)\n",
    "\n",
    "    return response_text\n",
    "\n",
    "\n",
    "def get_jsonl(df):\n",
    "                \n",
    "    jsonlist = []\n",
    "    for index, row in df.iterrows():\n",
    "        jsonlist.append({\n",
    "        \"custom_id\": str(row['No']),\n",
    "        \"method\": \"POST\",\n",
    "        \"url\": \"/v1/chat/completions\",\n",
    "        \"body\": {\n",
    "            \"model\":\"gpt-4o\",\n",
    "            \"messages\": [\n",
    "                {\n",
    "                    \"role\": \"system\",\n",
    "                    \"content\": \" \"\n",
    "                },\n",
    "                {\n",
    "                    \"role\": \"user\",\n",
    "                    \"content\": row['prompt']\n",
    "                }\n",
    "            ],\n",
    "            \"max_tokens\": 1000,\n",
    "            \"tools\": [\n",
    "                        {\n",
    "                            \"type\": \"function\",\n",
    "                            \"function\": {\n",
    "                                \"name\": \"task1\",\n",
    "                                \"description\": \" \",\n",
    "                                    \"parameters\":{\n",
    "                                    \"type\":\"object\",\n",
    "                                    \"properties\":{      \n",
    "                                        \"company_matching\":{\n",
    "                                            \"type\":\"string\",\n",
    "                                            \"description\":\"classify company matching into yes: same company or subsidiary of one another, or no\",\n",
    "                                            \"enum\":[\"yes\", \"no\"]\n",
    "                                        }     \n",
    "                                        },\n",
    "                                    \"required\":[\"company_matching\"]\n",
    "                                                }\n",
    "                            },\n",
    "                        }\n",
    "                    ],\n",
    "            \"tool_choice\": {\"type\": \"function\", \"function\": {\"name\": \"task1\"}}\n",
    "        }\n",
    "    })\n",
    "    return jsonlist\n"
   ]
  },
  {
   "cell_type": "code",
   "execution_count": 18,
   "metadata": {},
   "outputs": [
    {
     "name": "stdout",
     "output_type": "stream",
     "text": [
      "   No  ID_MS                    firm1                         firm2   ID_AS\n",
      "0   1  15294          swiss bank corp           swiss national bank  202552\n",
      "1   2  49619            chemical bank          chemical tankers inc  322023\n",
      "2   3  50202         bank of new york  bank of new york mellon corp    2019\n",
      "3   4  12677         bank of montreal              bank of montreal   15580\n",
      "4   5  92873  detroit bank & trust co             detroit edison co   65089\n"
     ]
    },
    {
     "name": "stderr",
     "output_type": "stream",
     "text": [
      "0it [00:00, ?it/s]"
     ]
    },
    {
     "name": "stdout",
     "output_type": "stream",
     "text": [
      "swiss bank corp swiss national bank\n"
     ]
    },
    {
     "name": "stderr",
     "output_type": "stream",
     "text": [
      "1it [00:01,  1.07s/it]"
     ]
    },
    {
     "name": "stdout",
     "output_type": "stream",
     "text": [
      "0\n",
      "chemical bank chemical tankers inc\n"
     ]
    },
    {
     "name": "stderr",
     "output_type": "stream",
     "text": [
      "2it [00:01,  1.01it/s]"
     ]
    },
    {
     "name": "stdout",
     "output_type": "stream",
     "text": [
      "0\n",
      "bank of new york bank of new york mellon corp\n"
     ]
    },
    {
     "name": "stderr",
     "output_type": "stream",
     "text": [
      "3it [00:02,  1.03it/s]"
     ]
    },
    {
     "name": "stdout",
     "output_type": "stream",
     "text": [
      "1\n",
      "bank of montreal bank of montreal\n"
     ]
    },
    {
     "name": "stderr",
     "output_type": "stream",
     "text": [
      "4it [00:03,  1.00s/it]"
     ]
    },
    {
     "name": "stdout",
     "output_type": "stream",
     "text": [
      "1\n",
      "detroit bank & trust co detroit edison co\n"
     ]
    },
    {
     "name": "stderr",
     "output_type": "stream",
     "text": [
      "5it [00:04,  1.17it/s]"
     ]
    },
    {
     "name": "stdout",
     "output_type": "stream",
     "text": [
      "0\n",
      "dai-ichi kangyo bank ltd dai-ichi kangyo bank ltd\n"
     ]
    },
    {
     "name": "stderr",
     "output_type": "stream",
     "text": [
      "6it [00:05,  1.33it/s]"
     ]
    },
    {
     "name": "stdout",
     "output_type": "stream",
     "text": [
      "1\n",
      "sanpaolo banco di napoli spa [ex-banco di napoli] risanamento napoli spa\n"
     ]
    },
    {
     "name": "stderr",
     "output_type": "stream",
     "text": [
      "7it [00:05,  1.42it/s]"
     ]
    },
    {
     "name": "stdout",
     "output_type": "stream",
     "text": [
      "0\n",
      "bank of nova scotia bank of nova scotia\n"
     ]
    },
    {
     "name": "stderr",
     "output_type": "stream",
     "text": [
      "8it [00:06,  1.29it/s]"
     ]
    },
    {
     "name": "stdout",
     "output_type": "stream",
     "text": [
      "1\n",
      "national westminster bank plc natl westminster bank\n"
     ]
    },
    {
     "name": "stderr",
     "output_type": "stream",
     "text": [
      "9it [00:08,  1.14s/it]"
     ]
    },
    {
     "name": "stdout",
     "output_type": "stream",
     "text": [
      "1\n",
      "first national bank of birmingham first national bank alaska\n"
     ]
    },
    {
     "name": "stderr",
     "output_type": "stream",
     "text": [
      "10it [00:10,  1.33s/it]"
     ]
    },
    {
     "name": "stdout",
     "output_type": "stream",
     "text": [
      "0\n",
      "arab banking corp bsc [abc] arab banking corp\n"
     ]
    },
    {
     "name": "stderr",
     "output_type": "stream",
     "text": [
      "11it [00:11,  1.12s/it]"
     ]
    },
    {
     "name": "stdout",
     "output_type": "stream",
     "text": [
      "1\n",
      "bank of scotland plc bank of scotland\n"
     ]
    },
    {
     "name": "stderr",
     "output_type": "stream",
     "text": [
      "12it [00:11,  1.01it/s]"
     ]
    },
    {
     "name": "stdout",
     "output_type": "stream",
     "text": [
      "1\n",
      "bnp paribas [ex-banque paribas] bnp paribas\n"
     ]
    },
    {
     "name": "stderr",
     "output_type": "stream",
     "text": [
      "13it [00:12,  1.03s/it]"
     ]
    },
    {
     "name": "stdout",
     "output_type": "stream",
     "text": [
      "1\n",
      "manufacturers hanover trust manufacturers services ltd\n"
     ]
    },
    {
     "name": "stderr",
     "output_type": "stream",
     "text": [
      "14it [00:13,  1.06it/s]"
     ]
    },
    {
     "name": "stdout",
     "output_type": "stream",
     "text": [
      "0\n",
      "westdeutsche landesbank gz westdeutsche landesbank\n"
     ]
    },
    {
     "name": "stderr",
     "output_type": "stream",
     "text": [
      "15it [00:14,  1.18it/s]"
     ]
    },
    {
     "name": "stdout",
     "output_type": "stream",
     "text": [
      "1\n",
      "mercantile national bank mercantile bank plc\n"
     ]
    },
    {
     "name": "stderr",
     "output_type": "stream",
     "text": [
      "16it [00:15,  1.14it/s]"
     ]
    },
    {
     "name": "stdout",
     "output_type": "stream",
     "text": [
      "0\n",
      "united bank of denver united bankers oyj\n"
     ]
    },
    {
     "name": "stderr",
     "output_type": "stream",
     "text": [
      "17it [00:15,  1.15it/s]"
     ]
    },
    {
     "name": "stdout",
     "output_type": "stream",
     "text": [
      "0\n",
      "gulf international bank bsc [gib] gulf international services\n"
     ]
    },
    {
     "name": "stderr",
     "output_type": "stream",
     "text": [
      "18it [00:17,  1.08it/s]"
     ]
    },
    {
     "name": "stdout",
     "output_type": "stream",
     "text": [
      "0\n",
      "bank of ireland group bank of ireland group plc\n"
     ]
    },
    {
     "name": "stderr",
     "output_type": "stream",
     "text": [
      "19it [00:18,  1.16s/it]"
     ]
    },
    {
     "name": "stdout",
     "output_type": "stream",
     "text": [
      "1\n",
      "exchange national bank the national bank\n"
     ]
    },
    {
     "name": "stderr",
     "output_type": "stream",
     "text": [
      "20it [00:19,  1.01s/it]"
     ]
    },
    {
     "name": "stdout",
     "output_type": "stream",
     "text": [
      "0\n",
      "union bank na union bank plc\n"
     ]
    },
    {
     "name": "stderr",
     "output_type": "stream",
     "text": [
      "21it [00:20,  1.12it/s]"
     ]
    },
    {
     "name": "stdout",
     "output_type": "stream",
     "text": [
      "0\n",
      "union bank na union bank ltd\n"
     ]
    },
    {
     "name": "stderr",
     "output_type": "stream",
     "text": [
      "22it [00:21,  1.09it/s]"
     ]
    },
    {
     "name": "stdout",
     "output_type": "stream",
     "text": [
      "0\n",
      "nederlandsche middenstandsbank nv nederlandse spoorwegen\n"
     ]
    },
    {
     "name": "stderr",
     "output_type": "stream",
     "text": [
      "23it [00:21,  1.13it/s]"
     ]
    },
    {
     "name": "stdout",
     "output_type": "stream",
     "text": [
      "0\n",
      "first national bank minneapolis first national bank modaraba\n"
     ]
    },
    {
     "name": "stderr",
     "output_type": "stream",
     "text": [
      "24it [00:22,  1.23it/s]"
     ]
    },
    {
     "name": "stdout",
     "output_type": "stream",
     "text": [
      "0\n",
      "standard chartered bank plc [scb] standard chartered bank\n"
     ]
    },
    {
     "name": "stderr",
     "output_type": "stream",
     "text": [
      "25it [00:23,  1.31it/s]"
     ]
    },
    {
     "name": "stdout",
     "output_type": "stream",
     "text": [
      "1\n",
      "scandinavian bank group plc scandinavian tobacco group\n"
     ]
    },
    {
     "name": "stderr",
     "output_type": "stream",
     "text": [
      "26it [00:24,  1.22it/s]"
     ]
    },
    {
     "name": "stdout",
     "output_type": "stream",
     "text": [
      "0\n",
      "royal bank of scotland plc [rbs] royal bank of scotland ltd\n"
     ]
    },
    {
     "name": "stderr",
     "output_type": "stream",
     "text": [
      "27it [00:24,  1.22it/s]"
     ]
    },
    {
     "name": "stdout",
     "output_type": "stream",
     "text": [
      "1\n",
      "sanpaolo imi spa [ex-istituto bancario sanpaolo di torino spa] san paolo-imi spa\n"
     ]
    },
    {
     "name": "stderr",
     "output_type": "stream",
     "text": [
      "28it [00:25,  1.19it/s]"
     ]
    },
    {
     "name": "stdout",
     "output_type": "stream",
     "text": [
      "1\n",
      "dresdner bank ag dresdner bank ag\n"
     ]
    },
    {
     "name": "stderr",
     "output_type": "stream",
     "text": [
      "29it [00:26,  1.32it/s]"
     ]
    },
    {
     "name": "stdout",
     "output_type": "stream",
     "text": [
      "1\n",
      "national australia bank ltd [nab] national australia bk\n"
     ]
    },
    {
     "name": "stderr",
     "output_type": "stream",
     "text": [
      "30it [00:26,  1.45it/s]"
     ]
    },
    {
     "name": "stdout",
     "output_type": "stream",
     "text": [
      "1\n",
      "cibc [canadian imperial bank of commerce] canadian imperial bank\n"
     ]
    },
    {
     "name": "stderr",
     "output_type": "stream",
     "text": [
      "31it [00:27,  1.38it/s]"
     ]
    },
    {
     "name": "stdout",
     "output_type": "stream",
     "text": [
      "1\n",
      "bank of america bank of africa - mali\n"
     ]
    },
    {
     "name": "stderr",
     "output_type": "stream",
     "text": [
      "32it [00:28,  1.44it/s]"
     ]
    },
    {
     "name": "stdout",
     "output_type": "stream",
     "text": [
      "0\n",
      "bank of america bank of africa- benin\n"
     ]
    },
    {
     "name": "stderr",
     "output_type": "stream",
     "text": [
      "33it [00:28,  1.46it/s]"
     ]
    },
    {
     "name": "stdout",
     "output_type": "stream",
     "text": [
      "0\n",
      "first interstate bank of california first internatl bank israel\n"
     ]
    },
    {
     "name": "stderr",
     "output_type": "stream",
     "text": [
      "34it [00:30,  1.20it/s]"
     ]
    },
    {
     "name": "stdout",
     "output_type": "stream",
     "text": [
      "0\n",
      "toronto dominion bank toronto dominion bank\n"
     ]
    },
    {
     "name": "stderr",
     "output_type": "stream",
     "text": [
      "35it [00:31,  1.09it/s]"
     ]
    },
    {
     "name": "stdout",
     "output_type": "stream",
     "text": [
      "1\n",
      "bankers trust co bankers investment trust plc\n"
     ]
    },
    {
     "name": "stderr",
     "output_type": "stream",
     "text": [
      "36it [00:32,  1.05it/s]"
     ]
    },
    {
     "name": "stdout",
     "output_type": "stream",
     "text": [
      "0\n",
      "citibank citybank\n"
     ]
    },
    {
     "name": "stderr",
     "output_type": "stream",
     "text": [
      "37it [00:32,  1.14it/s]"
     ]
    },
    {
     "name": "stdout",
     "output_type": "stream",
     "text": [
      "0\n",
      "chase manhattan bank manhattan bancorp\n"
     ]
    },
    {
     "name": "stderr",
     "output_type": "stream",
     "text": [
      "38it [00:33,  1.31it/s]"
     ]
    },
    {
     "name": "stdout",
     "output_type": "stream",
     "text": [
      "0\n",
      "chase manhattan bank chase perdana bhd\n"
     ]
    },
    {
     "name": "stderr",
     "output_type": "stream",
     "text": [
      "39it [00:34,  1.44it/s]"
     ]
    },
    {
     "name": "stdout",
     "output_type": "stream",
     "text": [
      "0\n",
      "saudi international bank sohar international bank\n"
     ]
    },
    {
     "name": "stderr",
     "output_type": "stream",
     "text": [
      "40it [00:34,  1.42it/s]"
     ]
    },
    {
     "name": "stdout",
     "output_type": "stream",
     "text": [
      "0\n",
      "barclays bank plc barclays bank plc\n"
     ]
    },
    {
     "name": "stderr",
     "output_type": "stream",
     "text": [
      "41it [00:35,  1.47it/s]"
     ]
    },
    {
     "name": "stdout",
     "output_type": "stream",
     "text": [
      "1\n",
      "continental bank continental seeds\n"
     ]
    },
    {
     "name": "stderr",
     "output_type": "stream",
     "text": [
      "42it [00:35,  1.50it/s]"
     ]
    },
    {
     "name": "stdout",
     "output_type": "stream",
     "text": [
      "0\n",
      "bank of boston bank of beirut\n"
     ]
    },
    {
     "name": "stderr",
     "output_type": "stream",
     "text": [
      "43it [00:37,  1.21it/s]"
     ]
    },
    {
     "name": "stdout",
     "output_type": "stream",
     "text": [
      "0\n",
      "fuji bank ltd fuji bank ltd\n"
     ]
    },
    {
     "name": "stderr",
     "output_type": "stream",
     "text": [
      "44it [00:38,  1.12s/it]"
     ]
    },
    {
     "name": "stdout",
     "output_type": "stream",
     "text": [
      "1\n",
      "european american bank european american resources\n"
     ]
    },
    {
     "name": "stderr",
     "output_type": "stream",
     "text": [
      "45it [00:39,  1.03it/s]"
     ]
    },
    {
     "name": "stdout",
     "output_type": "stream",
     "text": [
      "0\n",
      "security pacific national bank security pa financial corp\n"
     ]
    },
    {
     "name": "stderr",
     "output_type": "stream",
     "text": [
      "46it [00:40,  1.03it/s]"
     ]
    },
    {
     "name": "stdout",
     "output_type": "stream",
     "text": [
      "0\n",
      "credit suisse ag credit suisse ag\n"
     ]
    },
    {
     "name": "stderr",
     "output_type": "stream",
     "text": [
      "47it [00:41,  1.15it/s]"
     ]
    },
    {
     "name": "stdout",
     "output_type": "stream",
     "text": [
      "1\n",
      "royal bank of canada royal bank of canada\n"
     ]
    },
    {
     "name": "stderr",
     "output_type": "stream",
     "text": [
      "48it [00:42,  1.15it/s]"
     ]
    },
    {
     "name": "stdout",
     "output_type": "stream",
     "text": [
      "1\n",
      "bnp paribas [ex-banque nationale de paris] bnp paribas all income fund\n"
     ]
    },
    {
     "name": "stderr",
     "output_type": "stream",
     "text": [
      "49it [00:42,  1.26it/s]"
     ]
    },
    {
     "name": "stdout",
     "output_type": "stream",
     "text": [
      "1\n",
      "hongkong & shanghai banking corp ltd hongkong & shanghai hotels\n"
     ]
    },
    {
     "name": "stderr",
     "output_type": "stream",
     "text": [
      "50it [00:43,  1.40it/s]"
     ]
    },
    {
     "name": "stdout",
     "output_type": "stream",
     "text": [
      "0\n",
      "california first bank california bancorp\n"
     ]
    },
    {
     "name": "stderr",
     "output_type": "stream",
     "text": [
      "51it [00:44,  1.27it/s]"
     ]
    },
    {
     "name": "stdout",
     "output_type": "stream",
     "text": [
      "0\n",
      "first pennsylvania bank first bank\n"
     ]
    },
    {
     "name": "stderr",
     "output_type": "stream",
     "text": [
      "52it [00:44,  1.35it/s]"
     ]
    },
    {
     "name": "stdout",
     "output_type": "stream",
     "text": [
      "0\n",
      "citizens & southern national bank citizens south banking corp\n"
     ]
    },
    {
     "name": "stderr",
     "output_type": "stream",
     "text": [
      "53it [00:45,  1.39it/s]"
     ]
    },
    {
     "name": "stdout",
     "output_type": "stream",
     "text": [
      "1\n",
      "industrial bank of japan ltd industrial bank of japan ltd\n"
     ]
    },
    {
     "name": "stderr",
     "output_type": "stream",
     "text": [
      "54it [00:47,  1.09s/it]"
     ]
    },
    {
     "name": "stdout",
     "output_type": "stream",
     "text": [
      "1\n",
      "midland bank plc midland bank limited\n"
     ]
    },
    {
     "name": "stderr",
     "output_type": "stream",
     "text": [
      "55it [00:48,  1.23s/it]"
     ]
    },
    {
     "name": "stdout",
     "output_type": "stream",
     "text": [
      "1\n",
      "westpac banking corp westpac banking corp\n"
     ]
    },
    {
     "name": "stderr",
     "output_type": "stream",
     "text": [
      "56it [00:49,  1.01s/it]"
     ]
    },
    {
     "name": "stdout",
     "output_type": "stream",
     "text": [
      "1\n",
      "union bank of switzerland union bank of israel ltd\n"
     ]
    },
    {
     "name": "stderr",
     "output_type": "stream",
     "text": [
      "57it [00:50,  1.11it/s]"
     ]
    },
    {
     "name": "stdout",
     "output_type": "stream",
     "text": [
      "0\n",
      "societe generale sa societe generale group\n"
     ]
    },
    {
     "name": "stderr",
     "output_type": "stream",
     "text": [
      "58it [00:51,  1.02it/s]"
     ]
    },
    {
     "name": "stdout",
     "output_type": "stream",
     "text": [
      "1\n",
      "sumitomo bank sumitomo mitsui trust bank l\n"
     ]
    },
    {
     "name": "stderr",
     "output_type": "stream",
     "text": [
      "59it [00:52,  1.05s/it]"
     ]
    },
    {
     "name": "stdout",
     "output_type": "stream",
     "text": [
      "1\n",
      "credit industriel et commercial de paris cic (credit industriel comm)\n"
     ]
    },
    {
     "name": "stderr",
     "output_type": "stream",
     "text": [
      "60it [00:53,  1.07s/it]"
     ]
    },
    {
     "name": "stdout",
     "output_type": "stream",
     "text": [
      "1\n",
      "northern trust northern venture trust\n"
     ]
    },
    {
     "name": "stderr",
     "output_type": "stream",
     "text": [
      "61it [00:55,  1.32s/it]"
     ]
    },
    {
     "name": "stdout",
     "output_type": "stream",
     "text": [
      "0\n",
      "sanwa bank ltd sanwa bank ltd\n"
     ]
    },
    {
     "name": "stderr",
     "output_type": "stream",
     "text": [
      "62it [00:57,  1.40s/it]"
     ]
    },
    {
     "name": "stdout",
     "output_type": "stream",
     "text": [
      "1\n",
      "national westminster bank usa natl westminster bank\n"
     ]
    },
    {
     "name": "stderr",
     "output_type": "stream",
     "text": [
      "63it [00:57,  1.17s/it]"
     ]
    },
    {
     "name": "stdout",
     "output_type": "stream",
     "text": [
      "1\n",
      "lincoln national bank & trust co lincoln national cv sec\n"
     ]
    },
    {
     "name": "stderr",
     "output_type": "stream",
     "text": [
      "64it [00:58,  1.18s/it]"
     ]
    },
    {
     "name": "stdout",
     "output_type": "stream",
     "text": [
      "0\n",
      "credit agricole sa credit agricole sa\n"
     ]
    },
    {
     "name": "stderr",
     "output_type": "stream",
     "text": [
      "65it [00:59,  1.01s/it]"
     ]
    },
    {
     "name": "stdout",
     "output_type": "stream",
     "text": [
      "1\n",
      "rainier national bank herald national bank\n"
     ]
    },
    {
     "name": "stderr",
     "output_type": "stream",
     "text": [
      "66it [01:00,  1.08s/it]"
     ]
    },
    {
     "name": "stdout",
     "output_type": "stream",
     "text": [
      "0\n",
      "mercantile trust co mercantile bank corp\n"
     ]
    },
    {
     "name": "stderr",
     "output_type": "stream",
     "text": [
      "67it [01:01,  1.04s/it]"
     ]
    },
    {
     "name": "stdout",
     "output_type": "stream",
     "text": [
      "0\n",
      "valley national bank valley national bancorp\n"
     ]
    },
    {
     "name": "stderr",
     "output_type": "stream",
     "text": [
      "68it [01:02,  1.04s/it]"
     ]
    },
    {
     "name": "stdout",
     "output_type": "stream",
     "text": [
      "1\n",
      "bank of the southwest bank of the carolinas\n"
     ]
    },
    {
     "name": "stderr",
     "output_type": "stream",
     "text": [
      "69it [01:03,  1.08it/s]"
     ]
    },
    {
     "name": "stdout",
     "output_type": "stream",
     "text": [
      "0\n",
      "deutsche bank ag deutsche bank ag\n"
     ]
    },
    {
     "name": "stderr",
     "output_type": "stream",
     "text": [
      "70it [01:05,  1.24s/it]"
     ]
    },
    {
     "name": "stdout",
     "output_type": "stream",
     "text": [
      "1\n",
      "manufacturers hanover bank delaware manufacturers services ltd\n"
     ]
    },
    {
     "name": "stderr",
     "output_type": "stream",
     "text": [
      "71it [01:06,  1.23s/it]"
     ]
    },
    {
     "name": "stdout",
     "output_type": "stream",
     "text": [
      "0\n",
      "textron inc textron inc\n"
     ]
    },
    {
     "name": "stderr",
     "output_type": "stream",
     "text": [
      "72it [01:07,  1.05s/it]"
     ]
    },
    {
     "name": "stdout",
     "output_type": "stream",
     "text": [
      "1\n",
      "bank of tokyo ltd bank of tianjin co ltd\n"
     ]
    },
    {
     "name": "stderr",
     "output_type": "stream",
     "text": [
      "73it [01:08,  1.01s/it]"
     ]
    },
    {
     "name": "stdout",
     "output_type": "stream",
     "text": [
      "0\n",
      "first union national bank of north carolina first national bank modaraba\n"
     ]
    },
    {
     "name": "stderr",
     "output_type": "stream",
     "text": [
      "74it [01:09,  1.01it/s]"
     ]
    },
    {
     "name": "stdout",
     "output_type": "stream",
     "text": [
      "0\n",
      "mitsubishi bank ltd mitsubishi trust & banking\n"
     ]
    },
    {
     "name": "stderr",
     "output_type": "stream",
     "text": [
      "75it [01:10,  1.12s/it]"
     ]
    },
    {
     "name": "stdout",
     "output_type": "stream",
     "text": [
      "1\n",
      "centerre bank centerstate bank corp\n"
     ]
    },
    {
     "name": "stderr",
     "output_type": "stream",
     "text": [
      "76it [01:11,  1.16s/it]"
     ]
    },
    {
     "name": "stdout",
     "output_type": "stream",
     "text": [
      "0\n",
      "first national bank of atlanta first national bank alaska\n"
     ]
    },
    {
     "name": "stderr",
     "output_type": "stream",
     "text": [
      "77it [01:12,  1.11s/it]"
     ]
    },
    {
     "name": "stdout",
     "output_type": "stream",
     "text": [
      "0\n",
      "mitsui bank ltd mitsui osk lines ltd\n"
     ]
    },
    {
     "name": "stderr",
     "output_type": "stream",
     "text": [
      "78it [01:13,  1.06s/it]"
     ]
    },
    {
     "name": "stdout",
     "output_type": "stream",
     "text": [
      "0\n",
      "banca commerciale italiana spa banca popolare italiana\n"
     ]
    },
    {
     "name": "stderr",
     "output_type": "stream",
     "text": [
      "79it [01:14,  1.02it/s]"
     ]
    },
    {
     "name": "stdout",
     "output_type": "stream",
     "text": [
      "0\n",
      "commerzbank ag commerzbank ag\n"
     ]
    },
    {
     "name": "stderr",
     "output_type": "stream",
     "text": [
      "80it [01:15,  1.11it/s]"
     ]
    },
    {
     "name": "stdout",
     "output_type": "stream",
     "text": [
      "1\n",
      "generale bank sa generalfinance spa\n"
     ]
    },
    {
     "name": "stderr",
     "output_type": "stream",
     "text": [
      "81it [01:17,  1.28s/it]"
     ]
    },
    {
     "name": "stdout",
     "output_type": "stream",
     "text": [
      "0\n",
      "wachovia bank wachovia corp-old\n"
     ]
    },
    {
     "name": "stderr",
     "output_type": "stream",
     "text": [
      "82it [01:18,  1.07s/it]"
     ]
    },
    {
     "name": "stdout",
     "output_type": "stream",
     "text": [
      "1\n",
      "salomon brothers salomon brothers fund inc\n"
     ]
    },
    {
     "name": "stderr",
     "output_type": "stream",
     "text": [
      "83it [01:18,  1.07it/s]"
     ]
    },
    {
     "name": "stdout",
     "output_type": "stream",
     "text": [
      "1\n",
      "chuo trust & banking co ltd toyo trust & banking co\n"
     ]
    },
    {
     "name": "stderr",
     "output_type": "stream",
     "text": [
      "84it [01:19,  1.23it/s]"
     ]
    },
    {
     "name": "stdout",
     "output_type": "stream",
     "text": [
      "0\n",
      "yasuda trust & banking co ltd toyo trust & banking co\n"
     ]
    },
    {
     "name": "stderr",
     "output_type": "stream",
     "text": [
      "85it [01:20,  1.21it/s]"
     ]
    },
    {
     "name": "stdout",
     "output_type": "stream",
     "text": [
      "0\n",
      "hokkaido takushoko bank hokkaido shinko co ltd\n"
     ]
    },
    {
     "name": "stderr",
     "output_type": "stream",
     "text": [
      "86it [01:20,  1.23it/s]"
     ]
    },
    {
     "name": "stdout",
     "output_type": "stream",
     "text": [
      "0\n",
      "taiyo kobe bank ltd taiko bank ltd\n"
     ]
    },
    {
     "name": "stderr",
     "output_type": "stream",
     "text": [
      "87it [01:22,  1.07it/s]"
     ]
    },
    {
     "name": "stdout",
     "output_type": "stream",
     "text": [
      "0\n",
      "mitsui trust & banking corp mitsubishi trust & banking\n"
     ]
    },
    {
     "name": "stderr",
     "output_type": "stream",
     "text": [
      "88it [01:23,  1.01s/it]"
     ]
    },
    {
     "name": "stdout",
     "output_type": "stream",
     "text": [
      "0\n",
      "mitsubishi trust & banking corp mitsubishi trust & banking\n"
     ]
    },
    {
     "name": "stderr",
     "output_type": "stream",
     "text": [
      "89it [01:23,  1.10it/s]"
     ]
    },
    {
     "name": "stdout",
     "output_type": "stream",
     "text": [
      "1\n",
      "nippon credit bank ltd kita-nippon bank ltd\n"
     ]
    },
    {
     "name": "stderr",
     "output_type": "stream",
     "text": [
      "90it [01:24,  1.22it/s]"
     ]
    },
    {
     "name": "stdout",
     "output_type": "stream",
     "text": [
      "0\n",
      "sumitomo trust & banking co ltd sumitomo mitsui trust bank l\n"
     ]
    },
    {
     "name": "stderr",
     "output_type": "stream",
     "text": [
      "91it [01:25,  1.27it/s]"
     ]
    },
    {
     "name": "stdout",
     "output_type": "stream",
     "text": [
      "1\n",
      "kyowa bank ltd towa bank ltd\n"
     ]
    },
    {
     "name": "stderr",
     "output_type": "stream",
     "text": [
      "92it [01:25,  1.27it/s]"
     ]
    },
    {
     "name": "stdout",
     "output_type": "stream",
     "text": [
      "0\n",
      "kyowa bank ltd howa bank ltd\n"
     ]
    },
    {
     "name": "stderr",
     "output_type": "stream",
     "text": [
      "93it [01:28,  1.19s/it]"
     ]
    },
    {
     "name": "stdout",
     "output_type": "stream",
     "text": [
      "0\n",
      "daiwa bank ltd daiwa bank\n"
     ]
    },
    {
     "name": "stderr",
     "output_type": "stream",
     "text": [
      "94it [01:28,  1.03s/it]"
     ]
    },
    {
     "name": "stdout",
     "output_type": "stream",
     "text": [
      "1\n",
      "first city national bank first national bank alaska\n"
     ]
    },
    {
     "name": "stderr",
     "output_type": "stream",
     "text": [
      "95it [01:29,  1.00it/s]"
     ]
    },
    {
     "name": "stdout",
     "output_type": "stream",
     "text": [
      "0\n",
      "first interstate ltd first interstate bancsystem\n"
     ]
    },
    {
     "name": "stderr",
     "output_type": "stream",
     "text": [
      "96it [01:30,  1.17it/s]"
     ]
    },
    {
     "name": "stdout",
     "output_type": "stream",
     "text": [
      "1\n",
      "first interstate bancorp first internet bancorp\n"
     ]
    },
    {
     "name": "stderr",
     "output_type": "stream",
     "text": [
      "97it [01:30,  1.23it/s]"
     ]
    },
    {
     "name": "stdout",
     "output_type": "stream",
     "text": [
      "0\n",
      "bank of tokyo trust co bank of tianjin co ltd\n"
     ]
    },
    {
     "name": "stderr",
     "output_type": "stream",
     "text": [
      "98it [01:31,  1.15it/s]"
     ]
    },
    {
     "name": "stdout",
     "output_type": "stream",
     "text": [
      "0\n",
      "hypobank international sa cm international sa\n"
     ]
    },
    {
     "name": "stderr",
     "output_type": "stream",
     "text": [
      "99it [01:32,  1.10it/s]"
     ]
    },
    {
     "name": "stdout",
     "output_type": "stream",
     "text": [
      "0\n",
      "united virginia bank united bank ltd\n"
     ]
    },
    {
     "name": "stderr",
     "output_type": "stream",
     "text": [
      "100it [01:34,  1.06it/s]"
     ]
    },
    {
     "name": "stdout",
     "output_type": "stream",
     "text": [
      "0\n"
     ]
    },
    {
     "name": "stderr",
     "output_type": "stream",
     "text": [
      "\n"
     ]
    }
   ],
   "source": [
    "\n",
    "\n",
    "loan_tables = pd.read_excel(open('/Users/zhenggong/Documents/GitHub/IBES_selected/data/Firm all.xlsx', 'rb'),\n",
    "            sheet_name='Sheet1').dropna(subset=['firm1', 'firm2']).drop(columns=['使用内置搜索综合判断firm1和firm2是同一个公司或者有母子公司关系吗']).head(100)\n",
    "print(loan_tables.head())\n",
    "\n",
    "res = []\n",
    "for _, row in tqdm.tqdm(loan_tables.iterrows()):\n",
    "    print(row['firm1'], row['firm2'])\n",
    "\n",
    "    prompt = f\"\"\"\n",
    "    You are a stock analyst, the task is to decide whether two firm names represent the same company or is subsidiary of the other.\n",
    "    The first firm name is {row['firm1']}, the second firm name is {row['firm2']}.\n",
    "\n",
    "    Use not only the name similarity but also the context and history of the company. For example, Merrill Lynch and Bank of America are the same company or subsidiary of the other, while Merrill Lynch and Goldman Sachs are not.\n",
    "\n",
    "    Try your best to make a decision with representing or not representing the same company. \n",
    "    return 0 if they are not the same company or subsidiary of the other, return 1 if they represent same company or subsidiary of the other. return ONLY the indicated integer and NOTHING ELSE.\n",
    "    \"\"\"\n",
    "    \n",
    "    result = get_integer_from_openai(prompt)\n",
    "    print(result)\n",
    "\n",
    "    res.append(result)"
   ]
  },
  {
   "cell_type": "code",
   "execution_count": 19,
   "metadata": {},
   "outputs": [],
   "source": [
    "loan_tables['result'] = res\n",
    "loan_tables.to_csv('loan_tble_matching_result.csv', index=False)"
   ]
  },
  {
   "cell_type": "code",
   "execution_count": 26,
   "metadata": {},
   "outputs": [
    {
     "name": "stdout",
     "output_type": "stream",
     "text": [
      "   No  ID_MS                    firm1                         firm2   ID_AS\n",
      "0   1  15294          swiss bank corp           swiss national bank  202552\n",
      "1   2  49619            chemical bank          chemical tankers inc  322023\n",
      "2   3  50202         bank of new york  bank of new york mellon corp    2019\n",
      "3   4  12677         bank of montreal              bank of montreal   15580\n",
      "4   5  92873  detroit bank & trust co             detroit edison co   65089\n",
      "          No   ID_MS                                       firm1  \\\n",
      "0          1   15294                             swiss bank corp   \n",
      "1          2   49619                               chemical bank   \n",
      "2          3   50202                            bank of new york   \n",
      "3          4   12677                            bank of montreal   \n",
      "4          5   92873                     detroit bank & trust co   \n",
      "...      ...     ...                                         ...   \n",
      "93662  93663  177598  safeguard world international holdings ltd   \n",
      "93663  93664  177598  safeguard world international holdings ltd   \n",
      "93664  93665  168034                                 shannex inc   \n",
      "93665  93666  177172            solarcraft power india 3 pvt ltd   \n",
      "93666  93667  177653                            lumine group inc   \n",
      "\n",
      "                              firm2   ID_AS  \\\n",
      "0               swiss national bank  202552   \n",
      "1              chemical tankers inc  322023   \n",
      "2      bank of new york mellon corp    2019   \n",
      "3                  bank of montreal   15580   \n",
      "4                 detroit edison co   65089   \n",
      "...                             ...     ...   \n",
      "93662  sa sa international holdings  227479   \n",
      "93663  best world international ltd  270987   \n",
      "93664                    shanon inc  323149   \n",
      "93665    solar industries india ltd  276549   \n",
      "93666                  lumine group   42244   \n",
      "\n",
      "                                                  prompt  \n",
      "0      You are a stock analyst, the task is to decide...  \n",
      "1      You are a stock analyst, the task is to decide...  \n",
      "2      You are a stock analyst, the task is to decide...  \n",
      "3      You are a stock analyst, the task is to decide...  \n",
      "4      You are a stock analyst, the task is to decide...  \n",
      "...                                                  ...  \n",
      "93662  You are a stock analyst, the task is to decide...  \n",
      "93663  You are a stock analyst, the task is to decide...  \n",
      "93664  You are a stock analyst, the task is to decide...  \n",
      "93665  You are a stock analyst, the task is to decide...  \n",
      "93666  You are a stock analyst, the task is to decide...  \n",
      "\n",
      "[93667 rows x 6 columns]\n"
     ]
    }
   ],
   "source": [
    "# prepare batch file jsonl\n",
    "loan_tables = pd.read_excel(open('/Users/zhenggong/Documents/GitHub/IBES_selected/data/Firm all.xlsx', 'rb'),\n",
    "            sheet_name='Sheet1').dropna(subset=['firm1', 'firm2']).drop(columns=['使用内置搜索综合判断firm1和firm2是同一个公司或者有母子公司关系吗'])\n",
    "print(loan_tables.head())\n",
    "\n",
    "def add_prompt(row):\n",
    "    return f\"\"\"You are a stock analyst, the task is to decide whether two firm names represent the same company or is subsidiary of the other.\n",
    "    The first firm name is {row['firm1']}, the second firm name is {row['firm2']}.\n",
    "\n",
    "    Use not only the name similarity but also the context and history of the company. For example, Merrill Lynch and Bank of America are the same company or subsidiary of the other, while Merrill Lynch and Goldman Sachs are not.\n",
    "\n",
    "    return 'no' if they are not the same company or subsidiary of the other, return 'yes' if they represent same company or subsidiary of the other. return ONLY the indicated integer and NOTHING ELSE.\n",
    "    \"\"\"\n",
    "loan_tables['prompt'] = loan_tables.apply(lambda row: add_prompt(row), axis=1)\n",
    "print(loan_tables)\n",
    "\n",
    "import json\n",
    "res = get_jsonl(loan_tables.iloc[:30000])\n",
    "# Write data to JSONL file\n",
    "with open('loan_jsonl_1.jsonl', 'w') as file:\n",
    "    for user in res:\n",
    "        file.write(json.dumps(user) + '\\n')\n",
    "\n",
    "res = get_jsonl(loan_tables.iloc[30000:60000])\n",
    "# Write data to JSONL file\n",
    "with open('loan_jsonl_2.jsonl', 'w') as file:\n",
    "    for user in res:\n",
    "        file.write(json.dumps(user) + '\\n')\n",
    "\n",
    "res = get_jsonl(loan_tables.iloc[60000:])\n",
    "# Write data to JSONL file\n",
    "with open('loan_jsonl_3.jsonl', 'w') as file:\n",
    "    for user in res:\n",
    "        file.write(json.dumps(user) + '\\n')\n"
   ]
  },
  {
   "cell_type": "code",
   "execution_count": 7,
   "metadata": {},
   "outputs": [
    {
     "name": "stdout",
     "output_type": "stream",
     "text": [
      "          No company_matching              model   ID_MS  \\\n",
      "0          1               no  gpt-4o-2024-05-13   15294   \n",
      "1          2               no  gpt-4o-2024-05-13   49619   \n",
      "2          3              yes  gpt-4o-2024-05-13   50202   \n",
      "3          4              yes  gpt-4o-2024-05-13   12677   \n",
      "4          5               no  gpt-4o-2024-05-13   92873   \n",
      "...      ...              ...                ...     ...   \n",
      "93662  59996              yes  gpt-4o-2024-05-13   22604   \n",
      "93663  59997               no  gpt-4o-2024-05-13   27118   \n",
      "93664  59998              yes  gpt-4o-2024-05-13   13947   \n",
      "93665  59999              yes  gpt-4o-2024-05-13  102132   \n",
      "93666  60000               no  gpt-4o-2024-05-13  102088   \n",
      "\n",
      "                                firm1                         firm2   ID_AS  \n",
      "0                     swiss bank corp           swiss national bank  202552  \n",
      "1                       chemical bank          chemical tankers inc  322023  \n",
      "2                    bank of new york  bank of new york mellon corp    2019  \n",
      "3                    bank of montreal              bank of montreal   15580  \n",
      "4             detroit bank & trust co             detroit edison co   65089  \n",
      "...                               ...                           ...     ...  \n",
      "93662  bright food (australia) co ltd    bright dairy & food co ltd  259074  \n",
      "93663       telecable de asturias sau                  telecast asa  202314  \n",
      "93664              balfour beatty plc            balfour beatty plc  100390  \n",
      "93665                   omv petrom sa                    omv petrom  258785  \n",
      "93666    horizontal well drillers llc  horizons betapro s&p bull pl  177657  \n",
      "\n",
      "[93667 rows x 7 columns]\n"
     ]
    }
   ],
   "source": [
    "# load in batched output \n",
    "import json\n",
    "# import the file back row by row\n",
    "res_data = []\n",
    "with open('/Users/zhenggong/Documents/GitHub/IBES_selected/runnables/batch_jFQNkXpSipDZbkqXn6iCvPYC_output.jsonl', 'r') as f:\n",
    "    for line in f:\n",
    "\n",
    "        json_obj = json.loads(line)\n",
    "        response = json.loads(json_obj['response']['body']['choices'][0]['message']['tool_calls'][0]['function']['arguments'])\n",
    "\n",
    "        rowid = json_obj['custom_id']\n",
    "\n",
    "        data = {'No': rowid,\n",
    "            'company_matching': response['company_matching'],\n",
    "                'model': json_obj['response']['body']['model'],\n",
    "                }\n",
    "        res_data.append(data)\n",
    "\n",
    "with open('/Users/zhenggong/Documents/GitHub/IBES_selected/runnables/batch_8lBh8IBHZFCaY6xbyVp1HeyO_output.jsonl', 'r') as f:\n",
    "    for line in f:\n",
    "\n",
    "        json_obj = json.loads(line)\n",
    "        response = json.loads(json_obj['response']['body']['choices'][0]['message']['tool_calls'][0]['function']['arguments'])\n",
    "\n",
    "        rowid = json_obj['custom_id']\n",
    "\n",
    "        data = {'No': rowid,\n",
    "            'company_matching': response['company_matching'],\n",
    "                'model': json_obj['response']['body']['model'],\n",
    "                }\n",
    "        res_data.append(data)\n",
    "\n",
    "\n",
    "with open('/Users/zhenggong/Documents/GitHub/IBES_selected/runnables/batch_cJZPLtO8BMCvmC7iVBzWPzf3_output.jsonl', 'r') as f:\n",
    "    for line in f:\n",
    "\n",
    "        json_obj = json.loads(line)\n",
    "        response = json.loads(json_obj['response']['body']['choices'][0]['message']['tool_calls'][0]['function']['arguments'])\n",
    "\n",
    "        rowid = json_obj['custom_id']\n",
    "\n",
    "        data = {'No': rowid,\n",
    "            'company_matching': response['company_matching'],\n",
    "                'model': json_obj['response']['body']['model'],\n",
    "                }\n",
    "        res_data.append(data)\n",
    "\n",
    "res_data = pd.DataFrame(res_data)\n",
    "res_data['No'] = res_data['No'].astype(int)\n",
    "\n",
    "loan_tables = pd.read_excel(open('/Users/zhenggong/Documents/GitHub/IBES_selected/data/Firm all.xlsx', 'rb'),\n",
    "            sheet_name='Sheet1').dropna(subset=['firm1', 'firm2']).drop(columns=['使用内置搜索综合判断firm1和firm2是同一个公司或者有母子公司关系吗'])\n",
    "loan_tables['No'] = loan_tables['No'].astype(int)\n",
    "\n",
    "res_data = pd.merge(res_data, loan_tables, left_on=['No'], right_on=['No'], how='left')\n",
    "print(res_data)\n",
    "res_data.to_csv('loan_tble_matching_result.csv', index=False)"
   ]
  }
 ],
 "metadata": {
  "kernelspec": {
   "display_name": "ibes",
   "language": "python",
   "name": "python3"
  },
  "language_info": {
   "codemirror_mode": {
    "name": "ipython",
    "version": 3
   },
   "file_extension": ".py",
   "mimetype": "text/x-python",
   "name": "python",
   "nbconvert_exporter": "python",
   "pygments_lexer": "ipython3",
   "version": "3.11.8"
  }
 },
 "nbformat": 4,
 "nbformat_minor": 2
}
